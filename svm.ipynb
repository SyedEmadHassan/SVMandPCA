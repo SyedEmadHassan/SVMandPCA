{
 "cells": [
  {
   "cell_type": "code",
   "execution_count": 32,
   "metadata": {},
   "outputs": [],
   "source": [
    "import pandas as pd\n",
    "import numpy as np \n",
    "import matplotlib.pyplot as plt"
   ]
  },
  {
   "cell_type": "code",
   "execution_count": 33,
   "metadata": {},
   "outputs": [],
   "source": [
    "dataset = pd.read_csv(\"titanic.csv\")\n",
    "dataset['Fare'] = dataset['Fare'].fillna(dataset['Fare'].dropna().median())\n",
    "dataset['Age'] = dataset['Age'].fillna(dataset['Age'].dropna().median())\n",
    "\n",
    "dataset.loc[dataset['Sex']=='male','Sex']=0\n",
    "dataset.loc[dataset['Sex']=='female','Sex']=1\n",
    "\n",
    "dataset['Embarked']=dataset['Embarked'].fillna('S') \n",
    "\n",
    "dataset.loc[dataset['Embarked']=='S','Embarked']=0\n",
    "dataset.loc[dataset['Embarked']=='C','Embarked']=1\n",
    "dataset.loc[dataset['Embarked']=='Q','Embarked']=2\n",
    "drop_elements = ['Name','Cabin','Ticket']\n",
    "dataset = dataset.drop(drop_elements, axis=1)\n",
    "x = dataset.drop([\"Survived\"],axis=1)\n",
    "y = dataset[\"Survived\"]\n",
    "x=x.to_numpy()\n",
    "y=y.to_numpy()\n"
   ]
  },
  {
   "cell_type": "code",
   "execution_count": 34,
   "metadata": {},
   "outputs": [],
   "source": [
    "def accuracy(y_pred,y_test):\n",
    "    return np.sum(y_pred==y_test)/len(y_test)"
   ]
  },
  {
   "cell_type": "code",
   "execution_count": null,
   "metadata": {},
   "outputs": [],
   "source": [
    "class SVM:\n",
    "    def __init__(self, lr=0.001, l_param=0.01, iter=1000):\n",
    "        self.iter = iter\n",
    "        self.lr = lr\n",
    "        self.l_param = l_param\n",
    "        self.w = None\n",
    "        self.b = None\n",
    "\n",
    "    def fit(self, x, y):\n",
    "        \n",
    "        x = np.array(x, dtype=np.float64)\n",
    "        y = np.array(y, dtype=np.float64)\n",
    "\n",
    "        n_samples, n_features = x.shape\n",
    "        y_new = np.where(y <= 0, -1, 1)  \n",
    "\n",
    "        self.w = np.zeros(n_features, dtype=np.float64)\n",
    "        self.b = 0.0\n",
    "\n",
    "        for _ in range(self.iter):\n",
    "            for idx, x_i in enumerate(x):\n",
    "                condition = y_new[idx] * (np.dot(x_i, self.w) - self.b) >= 1\n",
    "                if condition:\n",
    "                    \n",
    "                    self.w -= self.lr * (2 * self.l_param * self.w)\n",
    "                else:\n",
    "                    \n",
    "                    self.w -= self.lr * (2 * self.l_param * self.w - np.dot(x_i, y_new[idx]))\n",
    "                    self.b -= self.lr * y_new[idx]\n",
    "\n",
    "    def predict(self, x):\n",
    "        \n",
    "        x = np.array(x, dtype=np.float64)\n",
    "        \n",
    "        prediction = np.dot(x, self.w) - self.b\n",
    "        return np.sign(prediction)\n"
   ]
  },
  {
   "cell_type": "code",
   "execution_count": 36,
   "metadata": {},
   "outputs": [],
   "source": [
    "y=np.where(y==0,-1,1)\n",
    "size=int(x.shape[0]*0.8)\n",
    "x_train=x[:size]\n",
    "y_train = y[:size]\n",
    "x_test = x[size:]\n",
    "y_test = y[size:]\n"
   ]
  },
  {
   "cell_type": "code",
   "execution_count": 37,
   "metadata": {},
   "outputs": [
    {
     "name": "stdout",
     "output_type": "stream",
     "text": [
      "0.6703910614525139\n"
     ]
    }
   ],
   "source": [
    "clf = SVM()\n",
    "clf.fit(x_train,y_train)\n",
    "predictions = clf.predict(x_test)\n",
    "print(accuracy(predictions,y_test))"
   ]
  }
 ],
 "metadata": {
  "kernelspec": {
   "display_name": "Python 3",
   "language": "python",
   "name": "python3"
  },
  "language_info": {
   "codemirror_mode": {
    "name": "ipython",
    "version": 3
   },
   "file_extension": ".py",
   "mimetype": "text/x-python",
   "name": "python",
   "nbconvert_exporter": "python",
   "pygments_lexer": "ipython3",
   "version": "3.11.9"
  }
 },
 "nbformat": 4,
 "nbformat_minor": 2
}
